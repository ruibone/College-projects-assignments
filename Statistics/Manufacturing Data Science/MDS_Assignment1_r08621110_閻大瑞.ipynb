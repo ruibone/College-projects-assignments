{
 "cells": [
  {
   "cell_type": "markdown",
   "metadata": {},
   "source": [
    "# "
   ]
  },
  {
   "cell_type": "code",
   "execution_count": 1,
   "metadata": {
    "ExecuteTime": {
     "end_time": "2021-10-21T14:38:34.114443Z",
     "start_time": "2021-10-21T14:38:32.942800Z"
    }
   },
   "outputs": [],
   "source": [
    "import os\n",
    "import numpy as np\n",
    "import pandas as pd\n",
    "from scipy import stats\n",
    "import statsmodels.api as sm\n",
    "import statsmodels.stats.api as sms\n",
    "import matplotlib.pyplot as plt\n",
    "from sklearn.impute import KNNImputer\n",
    "from sklearn.linear_model import LogisticRegression\n",
    "from mlxtend.preprocessing import TransactionEncoder\n",
    "from mlxtend.frequent_patterns import apriori, association_rules\n",
    "import networkx as nx"
   ]
  },
  {
   "cell_type": "code",
   "execution_count": 2,
   "metadata": {
    "ExecuteTime": {
     "end_time": "2021-10-21T14:38:35.159469Z",
     "start_time": "2021-10-21T14:38:35.069599Z"
    }
   },
   "outputs": [],
   "source": [
    "os.chdir('C:/Users/user/Desktop/Darui_R08621110')\n",
    "furnace = pd.read_csv('MDS_Assignment1_furnace.csv')\n",
    "census = pd.read_csv('MDS_Assignment1_census.csv', header = None)\n",
    "groceries = pd.read_csv('MDS_Assignment1_groceries.csv', header = None, sep = '\\n')\n",
    "grocery = groceries[0].str.split(',', expand = True)"
   ]
  },
  {
   "cell_type": "markdown",
   "metadata": {},
   "source": [
    "## a"
   ]
  },
  {
   "cell_type": "code",
   "execution_count": 3,
   "metadata": {
    "ExecuteTime": {
     "end_time": "2021-10-21T14:38:36.611065Z",
     "start_time": "2021-10-21T14:38:36.573641Z"
    },
    "scrolled": true
   },
   "outputs": [
    {
     "data": {
      "text/plain": [
       "<bound method Summary.as_text of <class 'statsmodels.iolib.summary.Summary'>\n",
       "\"\"\"\n",
       "                            OLS Regression Results                            \n",
       "==============================================================================\n",
       "Dep. Variable:                  grade   R-squared:                       0.495\n",
       "Model:                            OLS   Adj. R-squared:                  0.472\n",
       "Method:                 Least Squares   F-statistic:                     21.52\n",
       "Date:                Thu, 21 Oct 2021   Prob (F-statistic):           1.16e-70\n",
       "Time:                        22:38:36   Log-Likelihood:                -381.52\n",
       "No. Observations:                 620   AIC:                             819.0\n",
       "Df Residuals:                     592   BIC:                             943.1\n",
       "Df Model:                          27                                         \n",
       "Covariance Type:            nonrobust                                         \n",
       "==============================================================================\n",
       "                 coef    std err          t      P>|t|      [0.025      0.975]\n",
       "------------------------------------------------------------------------------\n",
       "const          2.0339      0.018    110.528      0.000       1.998       2.070\n",
       "f0            -0.0055      0.025     -0.224      0.823      -0.054       0.043\n",
       "f1             0.0440      0.028      1.571      0.117      -0.011       0.099\n",
       "f2             0.3140      0.035      9.028      0.000       0.246       0.382\n",
       "f3             0.0186      0.042      0.447      0.655      -0.063       0.100\n",
       "f4            -0.0035      0.038     -0.091      0.928      -0.078       0.072\n",
       "f5            -0.0740      0.030     -2.483      0.013      -0.133      -0.015\n",
       "f6            -0.0710      0.026     -2.742      0.006      -0.122      -0.020\n",
       "f7             0.0235      0.028      0.853      0.394      -0.031       0.078\n",
       "f8             0.0410      0.019      2.170      0.030       0.004       0.078\n",
       "f9         -3.713e-17   4.17e-17     -0.890      0.374   -1.19e-16    4.48e-17\n",
       "f10           -0.0446      0.021     -2.119      0.035      -0.086      -0.003\n",
       "f11           -0.0292      0.020     -1.438      0.151      -0.069       0.011\n",
       "f12           -0.0006      0.022     -0.027      0.979      -0.044       0.043\n",
       "f13            0.0336      0.024      1.412      0.159      -0.013       0.080\n",
       "f14           -0.1832      0.021     -8.898      0.000      -0.224      -0.143\n",
       "f15           -0.1061      0.019     -5.565      0.000      -0.144      -0.069\n",
       "f16           -0.0358      0.020     -1.756      0.080      -0.076       0.004\n",
       "f17            0.0633      0.019      3.409      0.001       0.027       0.100\n",
       "f18           -0.1904      0.021     -9.194      0.000      -0.231      -0.150\n",
       "f19            0.0278      0.026      1.051      0.294      -0.024       0.080\n",
       "f20            0.0126      0.020      0.644      0.520      -0.026       0.051\n",
       "f21           -0.0357      0.028     -1.263      0.207      -0.091       0.020\n",
       "f22            0.0747      0.021      3.533      0.000       0.033       0.116\n",
       "f23           -0.0088      0.020     -0.442      0.659      -0.048       0.030\n",
       "f24            0.0193      0.024      0.800      0.424      -0.028       0.067\n",
       "f25           -0.0679      0.020     -3.406      0.001      -0.107      -0.029\n",
       "f26           -0.0360      0.022     -1.625      0.105      -0.080       0.008\n",
       "f27           -0.0062      0.019     -0.324      0.746      -0.044       0.031\n",
       "==============================================================================\n",
       "Omnibus:                       39.669   Durbin-Watson:                   2.004\n",
       "Prob(Omnibus):                  0.000   Jarque-Bera (JB):              147.525\n",
       "Skew:                           0.090   Prob(JB):                     9.23e-33\n",
       "Kurtosis:                       5.383   Cond. No.                     1.38e+16\n",
       "==============================================================================\n",
       "\n",
       "Notes:\n",
       "[1] Standard Errors assume that the covariance matrix of the errors is correctly specified.\n",
       "[2] The smallest eigenvalue is 1.06e-29. This might indicate that there are\n",
       "strong multicollinearity problems or that the design matrix is singular.\n",
       "\"\"\">"
      ]
     },
     "execution_count": 3,
     "metadata": {},
     "output_type": "execute_result"
    }
   ],
   "source": [
    "X = furnace.iloc[:, :-1]\n",
    "y = furnace.grade\n",
    "X = sm.add_constant(X)\n",
    "result = sm.OLS(y, X).fit()\n",
    "result.summary().as_text"
   ]
  },
  {
   "cell_type": "markdown",
   "metadata": {},
   "source": [
    "## c"
   ]
  },
  {
   "cell_type": "code",
   "execution_count": 4,
   "metadata": {
    "ExecuteTime": {
     "end_time": "2021-10-21T14:38:39.107626Z",
     "start_time": "2021-10-21T14:38:39.093094Z"
    }
   },
   "outputs": [
    {
     "data": {
      "text/plain": [
       "const    0.000000e+00\n",
       "f18      6.355895e-19\n",
       "f2       2.430368e-18\n",
       "f14      6.896905e-18\n",
       "f15      3.971326e-08\n",
       "f22      4.429125e-04\n",
       "f17      6.967770e-04\n",
       "f25      7.041639e-04\n",
       "f6       6.295708e-03\n",
       "dtype: float64"
      ]
     },
     "execution_count": 4,
     "metadata": {},
     "output_type": "execute_result"
    }
   ],
   "source": [
    "result.pvalues[result.pvalues < 0.01].sort_values()"
   ]
  },
  {
   "cell_type": "markdown",
   "metadata": {},
   "source": [
    "## d"
   ]
  },
  {
   "cell_type": "code",
   "execution_count": 5,
   "metadata": {
    "ExecuteTime": {
     "end_time": "2021-10-21T14:38:42.769065Z",
     "start_time": "2021-10-21T14:38:42.662387Z"
    }
   },
   "outputs": [
    {
     "data": {
      "image/png": "[encoded data removed]",
      "text/plain": [
       "<Figure size 432x288 with 1 Axes>"
      ]
     },
     "metadata": {
      "needs_background": "light"
     },
     "output_type": "display_data"
    }
   ],
   "source": [
    "### normality\n",
    "qq = sm.qqplot(result.resid, line = 's')"
   ]
  },
  {
   "cell_type": "code",
   "execution_count": 6,
   "metadata": {
    "ExecuteTime": {
     "end_time": "2021-10-21T14:38:44.144688Z",
     "start_time": "2021-10-21T14:38:44.062111Z"
    }
   },
   "outputs": [
    {
     "data": {
      "text/plain": [
       "[<matplotlib.lines.Line2D at 0x1d659835288>]"
      ]
     },
     "execution_count": 6,
     "metadata": {},
     "output_type": "execute_result"
    },
    {
     "data": {
      "image/png": "[encoded data removed]",
      "text/plain": [
       "<Figure size 432x288 with 1 Axes>"
      ]
     },
     "metadata": {
      "needs_background": "light"
     },
     "output_type": "display_data"
    }
   ],
   "source": [
    "### independence\n",
    "plt.plot(result.resid, 'b.')\n",
    "plt.plot([0, len(result.resid)], [0, 0], 'k-', lw = 5)"
   ]
  },
  {
   "cell_type": "code",
   "execution_count": 7,
   "metadata": {
    "ExecuteTime": {
     "end_time": "2021-10-21T14:38:45.158924Z",
     "start_time": "2021-10-21T14:38:45.149950Z"
    }
   },
   "outputs": [
    {
     "data": {
      "text/plain": [
       "{'Lagrange multiplier statistic': 140.62034965182642,\n",
       " 'p-value': 5.871842930105079e-17,\n",
       " 'f-value': 6.431710999631288,\n",
       " 'f p-value': 5.311815675352639e-20}"
      ]
     },
     "execution_count": 7,
     "metadata": {},
     "output_type": "execute_result"
    }
   ],
   "source": [
    "### equal variance\n",
    "name = [\"Lagrange multiplier statistic\", \"p-value\", \"f-value\", \"f p-value\"]\n",
    "test = sms.het_breuschpagan(result.resid, result.model.exog)\n",
    "dict(zip(name, test))"
   ]
  },
  {
   "cell_type": "markdown",
   "metadata": {},
   "source": [
    "# "
   ]
  },
  {
   "cell_type": "code",
   "execution_count": 8,
   "metadata": {
    "ExecuteTime": {
     "end_time": "2021-10-21T14:38:47.221592Z",
     "start_time": "2021-10-21T14:38:47.184501Z"
    }
   },
   "outputs": [],
   "source": [
    "census = census.rename(columns = {14: 'label'})\n",
    "census.label = (census.label == ' >50K').astype(int)\n",
    "census.columns = ['age', 'workclass', 'fnlwgt', 'education', 'education-num', 'marital-status', 'occupation',\n",
    "                  'relationship', 'race', 'sex', 'capital-gain', 'capital-loss', 'hours-per-week', 'native-country', \n",
    "                  'label']\n",
    "for i in census.columns.to_list():\n",
    "    census[i] = census[i].replace({' ?': None}) "
   ]
  },
  {
   "cell_type": "markdown",
   "metadata": {},
   "source": [
    "## a"
   ]
  },
  {
   "cell_type": "code",
   "execution_count": 9,
   "metadata": {
    "ExecuteTime": {
     "end_time": "2021-10-21T14:38:49.737617Z",
     "start_time": "2021-10-21T14:38:49.694162Z"
    }
   },
   "outputs": [
    {
     "data": {
      "text/html": [
       "<div>\n",
       "<style scoped>\n",
       "    .dataframe tbody tr th:only-of-type {\n",
       "        vertical-align: middle;\n",
       "    }\n",
       "\n",
       "    .dataframe tbody tr th {\n",
       "        vertical-align: top;\n",
       "    }\n",
       "\n",
       "    .dataframe thead th {\n",
       "        text-align: right;\n",
       "    }\n",
       "</style>\n",
       "<table border=\"1\" class=\"dataframe\">\n",
       "  <thead>\n",
       "    <tr style=\"text-align: right;\">\n",
       "      <th></th>\n",
       "      <th>age</th>\n",
       "      <th>fnlwgt</th>\n",
       "      <th>education-num</th>\n",
       "      <th>capital-gain</th>\n",
       "      <th>capital-loss</th>\n",
       "      <th>hours-per-week</th>\n",
       "    </tr>\n",
       "  </thead>\n",
       "  <tbody>\n",
       "    <tr>\n",
       "      <th>count</th>\n",
       "      <td>32561.000000</td>\n",
       "      <td>3.256100e+04</td>\n",
       "      <td>32561.000000</td>\n",
       "      <td>32561.000000</td>\n",
       "      <td>32561.000000</td>\n",
       "      <td>32561.000000</td>\n",
       "    </tr>\n",
       "    <tr>\n",
       "      <th>mean</th>\n",
       "      <td>38.581647</td>\n",
       "      <td>1.897784e+05</td>\n",
       "      <td>10.080679</td>\n",
       "      <td>1077.648844</td>\n",
       "      <td>87.303830</td>\n",
       "      <td>40.437456</td>\n",
       "    </tr>\n",
       "    <tr>\n",
       "      <th>std</th>\n",
       "      <td>13.640433</td>\n",
       "      <td>1.055500e+05</td>\n",
       "      <td>2.572720</td>\n",
       "      <td>7385.292085</td>\n",
       "      <td>402.960219</td>\n",
       "      <td>12.347429</td>\n",
       "    </tr>\n",
       "    <tr>\n",
       "      <th>min</th>\n",
       "      <td>17.000000</td>\n",
       "      <td>1.228500e+04</td>\n",
       "      <td>1.000000</td>\n",
       "      <td>0.000000</td>\n",
       "      <td>0.000000</td>\n",
       "      <td>1.000000</td>\n",
       "    </tr>\n",
       "    <tr>\n",
       "      <th>25%</th>\n",
       "      <td>28.000000</td>\n",
       "      <td>1.178270e+05</td>\n",
       "      <td>9.000000</td>\n",
       "      <td>0.000000</td>\n",
       "      <td>0.000000</td>\n",
       "      <td>40.000000</td>\n",
       "    </tr>\n",
       "    <tr>\n",
       "      <th>50%</th>\n",
       "      <td>37.000000</td>\n",
       "      <td>1.783560e+05</td>\n",
       "      <td>10.000000</td>\n",
       "      <td>0.000000</td>\n",
       "      <td>0.000000</td>\n",
       "      <td>40.000000</td>\n",
       "    </tr>\n",
       "    <tr>\n",
       "      <th>75%</th>\n",
       "      <td>48.000000</td>\n",
       "      <td>2.370510e+05</td>\n",
       "      <td>12.000000</td>\n",
       "      <td>0.000000</td>\n",
       "      <td>0.000000</td>\n",
       "      <td>45.000000</td>\n",
       "    </tr>\n",
       "    <tr>\n",
       "      <th>max</th>\n",
       "      <td>90.000000</td>\n",
       "      <td>1.484705e+06</td>\n",
       "      <td>16.000000</td>\n",
       "      <td>99999.000000</td>\n",
       "      <td>4356.000000</td>\n",
       "      <td>99.000000</td>\n",
       "    </tr>\n",
       "    <tr>\n",
       "      <th>missing</th>\n",
       "      <td>0.000000</td>\n",
       "      <td>0.000000e+00</td>\n",
       "      <td>0.000000</td>\n",
       "      <td>0.000000</td>\n",
       "      <td>0.000000</td>\n",
       "      <td>0.000000</td>\n",
       "    </tr>\n",
       "  </tbody>\n",
       "</table>\n",
       "</div>"
      ],
      "text/plain": [
       "                  age        fnlwgt  education-num  capital-gain  \\\n",
       "count    32561.000000  3.256100e+04   32561.000000  32561.000000   \n",
       "mean        38.581647  1.897784e+05      10.080679   1077.648844   \n",
       "std         13.640433  1.055500e+05       2.572720   7385.292085   \n",
       "min         17.000000  1.228500e+04       1.000000      0.000000   \n",
       "25%         28.000000  1.178270e+05       9.000000      0.000000   \n",
       "50%         37.000000  1.783560e+05      10.000000      0.000000   \n",
       "75%         48.000000  2.370510e+05      12.000000      0.000000   \n",
       "max         90.000000  1.484705e+06      16.000000  99999.000000   \n",
       "missing      0.000000  0.000000e+00       0.000000      0.000000   \n",
       "\n",
       "         capital-loss  hours-per-week  \n",
       "count    32561.000000    32561.000000  \n",
       "mean        87.303830       40.437456  \n",
       "std        402.960219       12.347429  \n",
       "min          0.000000        1.000000  \n",
       "25%          0.000000       40.000000  \n",
       "50%          0.000000       40.000000  \n",
       "75%          0.000000       45.000000  \n",
       "max       4356.000000       99.000000  \n",
       "missing      0.000000        0.000000  "
      ]
     },
     "execution_count": 9,
     "metadata": {},
     "output_type": "execute_result"
    }
   ],
   "source": [
    "### continous\n",
    "continuous = [0, 2, 4, 10, 11, 12]\n",
    "cont_stat = census.iloc[:, continuous].describe()\n",
    "cont_miss = [sum(census.iloc[:, x].isnull().astype(int)) for x in continuous]\n",
    "cont_stat.loc['missing'] = cont_miss\n",
    "cont_stat"
   ]
  },
  {
   "cell_type": "code",
   "execution_count": 17,
   "metadata": {
    "ExecuteTime": {
     "end_time": "2021-10-21T14:41:00.331013Z",
     "start_time": "2021-10-21T14:41:00.271042Z"
    }
   },
   "outputs": [
    {
     "data": {
      "text/html": [
       "<div>\n",
       "<style scoped>\n",
       "    .dataframe tbody tr th:only-of-type {\n",
       "        vertical-align: middle;\n",
       "    }\n",
       "\n",
       "    .dataframe tbody tr th {\n",
       "        vertical-align: top;\n",
       "    }\n",
       "\n",
       "    .dataframe thead th {\n",
       "        text-align: right;\n",
       "    }\n",
       "</style>\n",
       "<table border=\"1\" class=\"dataframe\">\n",
       "  <thead>\n",
       "    <tr style=\"text-align: right;\">\n",
       "      <th></th>\n",
       "      <th>workclass</th>\n",
       "      <th>education</th>\n",
       "      <th>marital-status</th>\n",
       "      <th>occupation</th>\n",
       "      <th>relationship</th>\n",
       "      <th>race</th>\n",
       "      <th>sex</th>\n",
       "      <th>native-country</th>\n",
       "    </tr>\n",
       "  </thead>\n",
       "  <tbody>\n",
       "    <tr>\n",
       "      <th>count</th>\n",
       "      <td>30725</td>\n",
       "      <td>32561</td>\n",
       "      <td>32561</td>\n",
       "      <td>30718</td>\n",
       "      <td>32561</td>\n",
       "      <td>32561</td>\n",
       "      <td>32561</td>\n",
       "      <td>31978</td>\n",
       "    </tr>\n",
       "    <tr>\n",
       "      <th>unique</th>\n",
       "      <td>8</td>\n",
       "      <td>16</td>\n",
       "      <td>7</td>\n",
       "      <td>14</td>\n",
       "      <td>6</td>\n",
       "      <td>5</td>\n",
       "      <td>2</td>\n",
       "      <td>41</td>\n",
       "    </tr>\n",
       "    <tr>\n",
       "      <th>top</th>\n",
       "      <td>Private</td>\n",
       "      <td>HS-grad</td>\n",
       "      <td>Married-civ-spouse</td>\n",
       "      <td>Prof-specialty</td>\n",
       "      <td>Husband</td>\n",
       "      <td>White</td>\n",
       "      <td>Male</td>\n",
       "      <td>United-States</td>\n",
       "    </tr>\n",
       "    <tr>\n",
       "      <th>freq</th>\n",
       "      <td>22696</td>\n",
       "      <td>10501</td>\n",
       "      <td>14976</td>\n",
       "      <td>4140</td>\n",
       "      <td>13193</td>\n",
       "      <td>27816</td>\n",
       "      <td>21790</td>\n",
       "      <td>29170</td>\n",
       "    </tr>\n",
       "    <tr>\n",
       "      <th>missing</th>\n",
       "      <td>1836</td>\n",
       "      <td>0</td>\n",
       "      <td>0</td>\n",
       "      <td>1843</td>\n",
       "      <td>0</td>\n",
       "      <td>0</td>\n",
       "      <td>0</td>\n",
       "      <td>583</td>\n",
       "    </tr>\n",
       "  </tbody>\n",
       "</table>\n",
       "</div>"
      ],
      "text/plain": [
       "        workclass education       marital-status       occupation  \\\n",
       "count       30725     32561                32561            30718   \n",
       "unique          8        16                    7               14   \n",
       "top       Private   HS-grad   Married-civ-spouse   Prof-specialty   \n",
       "freq        22696     10501                14976             4140   \n",
       "missing      1836         0                    0             1843   \n",
       "\n",
       "        relationship    race    sex  native-country  \n",
       "count          32561   32561  32561           31978  \n",
       "unique             6       5      2              41  \n",
       "top          Husband   White   Male   United-States  \n",
       "freq           13193   27816  21790           29170  \n",
       "missing            0       0      0             583  "
      ]
     },
     "execution_count": 17,
     "metadata": {},
     "output_type": "execute_result"
    }
   ],
   "source": [
    "### category\n",
    "category = [1, 3, 5, 6, 7 ,8 , 9, 13]\n",
    "cate_miss = [sum(census.iloc[:, x].isnull().astype(int)) for x in category]\n",
    "cate_stat = census.iloc[:, category].describe()\n",
    "cate_stat.loc['missing'] = cate_miss\n",
    "cate_stat"
   ]
  },
  {
   "cell_type": "markdown",
   "metadata": {},
   "source": [
    "## b, c"
   ]
  },
  {
   "cell_type": "code",
   "execution_count": 10,
   "metadata": {
    "ExecuteTime": {
     "end_time": "2021-10-21T14:38:51.602565Z",
     "start_time": "2021-10-21T14:38:51.494845Z"
    }
   },
   "outputs": [
    {
     "name": "stdout",
     "output_type": "stream",
     "text": [
      "[   23    52    96 ... 32494 32518 32531]\n"
     ]
    },
    {
     "data": {
      "text/plain": [
       "1215"
      ]
     },
     "execution_count": 10,
     "metadata": {},
     "output_type": "execute_result"
    }
   ],
   "source": [
    "### multivariate outlier (by mahalanobis distance)\n",
    "data = census.iloc[:, continuous].to_numpy()\n",
    "covariance = np.cov(data, rowvar = False)\n",
    "covariance_p = np.linalg.matrix_power(covariance, -1)\n",
    "center = np.mean(data, axis = 0)\n",
    "\n",
    "distance = []\n",
    "for i, value in enumerate(data):\n",
    "    dist = (value - center).T.dot(covariance_p).dot(value - center)\n",
    "    distance.append(dist)\n",
    "distance = np.array(distance)\n",
    "\n",
    "cutoff = stats.chi2.ppf(0.999, data.shape[1])\n",
    "outlier = np.where(distance >= cutoff)\n",
    "print(outlier[0])\n",
    "len(outlier[0])"
   ]
  },
  {
   "cell_type": "code",
   "execution_count": 11,
   "metadata": {
    "ExecuteTime": {
     "end_time": "2021-10-21T14:38:53.268560Z",
     "start_time": "2021-10-21T14:38:53.227890Z"
    }
   },
   "outputs": [],
   "source": [
    "### one-hot encoding\n",
    "new_census = pd.get_dummies(census, drop_first = True)\n",
    "label = new_census.label\n",
    "del new_census['label']\n",
    "new_census['label'] = label"
   ]
  },
  {
   "cell_type": "code",
   "execution_count": 12,
   "metadata": {
    "ExecuteTime": {
     "end_time": "2021-10-21T14:38:54.205419Z",
     "start_time": "2021-10-21T14:38:54.150337Z"
    },
    "scrolled": true
   },
   "outputs": [],
   "source": [
    "### missing value imputation\n",
    "imputer = KNNImputer(n_neighbors = 5, weights = 'uniform')\n",
    "imputation = imputer.fit_transform(new_census)\n",
    "done_census = pd.DataFrame(imputation, columns = new_census.columns)"
   ]
  },
  {
   "cell_type": "markdown",
   "metadata": {},
   "source": [
    "## d"
   ]
  },
  {
   "cell_type": "code",
   "execution_count": 13,
   "metadata": {
    "ExecuteTime": {
     "end_time": "2021-10-21T14:38:55.661911Z",
     "start_time": "2021-10-21T14:38:55.639217Z"
    }
   },
   "outputs": [],
   "source": [
    "length = len(done_census)\n",
    "inds = np.arange(length)\n",
    "np.random.shuffle(inds)\n",
    "train_len = np.floor(0.75*length).astype(int)\n",
    "train_index = inds[:train_len]\n",
    "test_index = inds[train_len:]\n",
    "train_data = done_census.loc[train_index]\n",
    "test_data = done_census.loc[test_index]"
   ]
  },
  {
   "cell_type": "markdown",
   "metadata": {},
   "source": [
    "## e"
   ]
  },
  {
   "cell_type": "code",
   "execution_count": 14,
   "metadata": {
    "ExecuteTime": {
     "end_time": "2021-10-21T14:38:57.927317Z",
     "start_time": "2021-10-21T14:38:57.811571Z"
    }
   },
   "outputs": [
    {
     "data": {
      "text/plain": [
       "0.7937599803463948"
      ]
     },
     "execution_count": 14,
     "metadata": {},
     "output_type": "execute_result"
    }
   ],
   "source": [
    "train_x = train_data.iloc[:, :-1]\n",
    "train_y = train_data.label\n",
    "test_x = test_data.iloc[:, :-1]\n",
    "test_y = test_data.label\n",
    "clf = LogisticRegression()\n",
    "clf.fit(train_x, train_y)\n",
    "predict = clf.predict(test_x)\n",
    "error = abs(predict - test_y)\n",
    "accuracy = (len(test_y) - sum(error)) / len(test_y)\n",
    "accuracy"
   ]
  },
  {
   "cell_type": "markdown",
   "metadata": {},
   "source": [
    "# "
   ]
  },
  {
   "cell_type": "markdown",
   "metadata": {},
   "source": [
    "## a"
   ]
  },
  {
   "cell_type": "code",
   "execution_count": 15,
   "metadata": {
    "ExecuteTime": {
     "end_time": "2021-10-21T14:39:00.301248Z",
     "start_time": "2021-10-21T14:39:00.217050Z"
    }
   },
   "outputs": [],
   "source": [
    "data = grocery.to_numpy()\n",
    "strip_data = []\n",
    "for i in range(data.shape[0]):\n",
    "    row = data[i]\n",
    "    new_row = list(row[row != np.array(None)])\n",
    "    strip_data.append(new_row)\n",
    "    \n",
    "te = TransactionEncoder()\n",
    "trans_data = te.fit(strip_data).transform(strip_data)\n",
    "trans_df = pd.DataFrame(trans_data, columns = te.columns_)"
   ]
  },
  {
   "cell_type": "markdown",
   "metadata": {},
   "source": [
    "## b"
   ]
  },
  {
   "cell_type": "code",
   "execution_count": 19,
   "metadata": {
    "ExecuteTime": {
     "end_time": "2021-10-21T14:42:33.422778Z",
     "start_time": "2021-10-21T14:42:17.874483Z"
    }
   },
   "outputs": [
    {
     "data": {
      "text/html": [
       "<div>\n",
       "<style scoped>\n",
       "    .dataframe tbody tr th:only-of-type {\n",
       "        vertical-align: middle;\n",
       "    }\n",
       "\n",
       "    .dataframe tbody tr th {\n",
       "        vertical-align: top;\n",
       "    }\n",
       "\n",
       "    .dataframe thead th {\n",
       "        text-align: right;\n",
       "    }\n",
       "</style>\n",
       "<table border=\"1\" class=\"dataframe\">\n",
       "  <thead>\n",
       "    <tr style=\"text-align: right;\">\n",
       "      <th></th>\n",
       "      <th>antecedents</th>\n",
       "      <th>consequents</th>\n",
       "      <th>antecedent support</th>\n",
       "      <th>consequent support</th>\n",
       "      <th>support</th>\n",
       "      <th>confidence</th>\n",
       "      <th>lift</th>\n",
       "      <th>leverage</th>\n",
       "      <th>conviction</th>\n",
       "    </tr>\n",
       "  </thead>\n",
       "  <tbody>\n",
       "    <tr>\n",
       "      <th>2430</th>\n",
       "      <td>(liquor)</td>\n",
       "      <td>(bottled beer, red/blush wine)</td>\n",
       "      <td>0.011083</td>\n",
       "      <td>0.004881</td>\n",
       "      <td>0.001932</td>\n",
       "      <td>0.174312</td>\n",
       "      <td>35.715787</td>\n",
       "      <td>0.001878</td>\n",
       "      <td>1.205200</td>\n",
       "    </tr>\n",
       "    <tr>\n",
       "      <th>2429</th>\n",
       "      <td>(bottled beer, red/blush wine)</td>\n",
       "      <td>(liquor)</td>\n",
       "      <td>0.004881</td>\n",
       "      <td>0.011083</td>\n",
       "      <td>0.001932</td>\n",
       "      <td>0.395833</td>\n",
       "      <td>35.715787</td>\n",
       "      <td>0.001878</td>\n",
       "      <td>1.636828</td>\n",
       "    </tr>\n",
       "    <tr>\n",
       "      <th>32661</th>\n",
       "      <td>(oil, whole milk, tropical fruit)</td>\n",
       "      <td>(yogurt, other vegetables, root vegetables)</td>\n",
       "      <td>0.002542</td>\n",
       "      <td>0.012913</td>\n",
       "      <td>0.001017</td>\n",
       "      <td>0.400000</td>\n",
       "      <td>30.976378</td>\n",
       "      <td>0.000984</td>\n",
       "      <td>1.645145</td>\n",
       "    </tr>\n",
       "    <tr>\n",
       "      <th>32657</th>\n",
       "      <td>(oil, root vegetables, yogurt)</td>\n",
       "      <td>(other vegetables, whole milk, tropical fruit)</td>\n",
       "      <td>0.001932</td>\n",
       "      <td>0.017082</td>\n",
       "      <td>0.001017</td>\n",
       "      <td>0.526316</td>\n",
       "      <td>30.811404</td>\n",
       "      <td>0.000984</td>\n",
       "      <td>2.075049</td>\n",
       "    </tr>\n",
       "    <tr>\n",
       "      <th>32537</th>\n",
       "      <td>(yogurt, domestic eggs, other vegetables, whol...</td>\n",
       "      <td>(tropical fruit, butter)</td>\n",
       "      <td>0.003355</td>\n",
       "      <td>0.009964</td>\n",
       "      <td>0.001017</td>\n",
       "      <td>0.303030</td>\n",
       "      <td>30.411255</td>\n",
       "      <td>0.000983</td>\n",
       "      <td>1.420486</td>\n",
       "    </tr>\n",
       "  </tbody>\n",
       "</table>\n",
       "</div>"
      ],
      "text/plain": [
       "                                             antecedents  \\\n",
       "2430                                            (liquor)   \n",
       "2429                      (bottled beer, red/blush wine)   \n",
       "32661                  (oil, whole milk, tropical fruit)   \n",
       "32657                     (oil, root vegetables, yogurt)   \n",
       "32537  (yogurt, domestic eggs, other vegetables, whol...   \n",
       "\n",
       "                                          consequents  antecedent support  \\\n",
       "2430                   (bottled beer, red/blush wine)            0.011083   \n",
       "2429                                         (liquor)            0.004881   \n",
       "32661     (yogurt, other vegetables, root vegetables)            0.002542   \n",
       "32657  (other vegetables, whole milk, tropical fruit)            0.001932   \n",
       "32537                        (tropical fruit, butter)            0.003355   \n",
       "\n",
       "       consequent support   support  confidence       lift  leverage  \\\n",
       "2430             0.004881  0.001932    0.174312  35.715787  0.001878   \n",
       "2429             0.011083  0.001932    0.395833  35.715787  0.001878   \n",
       "32661            0.012913  0.001017    0.400000  30.976378  0.000984   \n",
       "32657            0.017082  0.001017    0.526316  30.811404  0.000984   \n",
       "32537            0.009964  0.001017    0.303030  30.411255  0.000983   \n",
       "\n",
       "       conviction  \n",
       "2430     1.205200  \n",
       "2429     1.636828  \n",
       "32661    1.645145  \n",
       "32657    2.075049  \n",
       "32537    1.420486  "
      ]
     },
     "execution_count": 19,
     "metadata": {},
     "output_type": "execute_result"
    }
   ],
   "source": [
    "apriori_df = apriori(trans_df, min_support = 0.001, use_colnames = True)\n",
    "rule = association_rules(apriori_df, metric = 'confidence', min_threshold = 0.15)\n",
    "rule = rule.sort_values('lift', ascending = False)\n",
    "rule.iloc[:5, :]"
   ]
  },
  {
   "cell_type": "markdown",
   "metadata": {},
   "source": [
    "## d\n",
    "##### draw_graph function from https://www.kaggle.com/yugagrawal95/market-basket-analysis-apriori-in-python"
   ]
  },
  {
   "cell_type": "code",
   "execution_count": 22,
   "metadata": {
    "ExecuteTime": {
     "end_time": "2021-10-21T14:46:52.802188Z",
     "start_time": "2021-10-21T14:46:51.594464Z"
    }
   },
   "outputs": [
    {
     "data": {
      "image/png": "[encoded data removed]",
      "text/plain": [
       "<Figure size 432x288 with 1 Axes>"
      ]
     },
     "metadata": {},
     "output_type": "display_data"
    },
    {
     "data": {
      "image/png": "[encoded data removed]",
      "text/plain": [
       "<Figure size 432x288 with 1 Axes>"
      ]
     },
     "metadata": {},
     "output_type": "display_data"
    },
    {
     "data": {
      "image/png": "[encoded data removed]",
      "text/plain": [
       "<Figure size 432x288 with 1 Axes>"
      ]
     },
     "metadata": {},
     "output_type": "display_data"
    },
    {
     "data": {
      "image/png": "[encoded data removed]",
      "text/plain": [
       "<Figure size 432x288 with 1 Axes>"
      ]
     },
     "metadata": {},
     "output_type": "display_data"
    },
    {
     "data": {
      "image/png": "[encoded data removed]",
      "text/plain": [
       "<Figure size 432x288 with 1 Axes>"
      ]
     },
     "metadata": {},
     "output_type": "display_data"
    },
    {
     "data": {
      "image/png": "[encoded data removed]",
      "text/plain": [
       "<Figure size 432x288 with 1 Axes>"
      ]
     },
     "metadata": {},
     "output_type": "display_data"
    },
    {
     "data": {
      "image/png": "[encoded data removed]",
      "text/plain": [
       "<Figure size 432x288 with 1 Axes>"
      ]
     },
     "metadata": {},
     "output_type": "display_data"
    },
    {
     "data": {
      "image/png": "[encoded data removed]",
      "text/plain": [
       "<Figure size 432x288 with 1 Axes>"
      ]
     },
     "metadata": {},
     "output_type": "display_data"
    },
    {
     "data": {
      "image/png": "[encoded data removed]",
      "text/plain": [
       "<Figure size 432x288 with 1 Axes>"
      ]
     },
     "metadata": {},
     "output_type": "display_data"
    },
    {
     "data": {
      "image/png": "[encoded data removed]",
      "text/plain": [
       "<Figure size 432x288 with 1 Axes>"
      ]
     },
     "metadata": {},
     "output_type": "display_data"
    },
    {
     "data": {
      "image/png": "[encoded data removed]",
      "text/plain": [
       "<Figure size 432x288 with 1 Axes>"
      ]
     },
     "metadata": {},
     "output_type": "display_data"
    },
    {
     "data": {
      "image/png": "[encoded data removed]",
      "text/plain": [
       "<Figure size 432x288 with 1 Axes>"
      ]
     },
     "metadata": {},
     "output_type": "display_data"
    },
    {
     "data": {
      "image/png": "[encoded data removed]",
      "text/plain": [
       "<Figure size 432x288 with 1 Axes>"
      ]
     },
     "metadata": {},
     "output_type": "display_data"
    },
    {
     "data": {
      "image/png": "[encoded data removed]",
      "text/plain": [
       "<Figure size 432x288 with 1 Axes>"
      ]
     },
     "metadata": {},
     "output_type": "display_data"
    },
    {
     "data": {
      "image/png": "[encoded data removed]",
      "text/plain": [
       "<Figure size 432x288 with 1 Axes>"
      ]
     },
     "metadata": {},
     "output_type": "display_data"
    },
    {
     "data": {
      "image/png": "[encoded data removed]",
      "text/plain": [
       "<Figure size 432x288 with 1 Axes>"
      ]
     },
     "metadata": {},
     "output_type": "display_data"
    }
   ],
   "source": [
    "def draw_graph(rules, rules_to_show):\n",
    "    G1 = nx.DiGraph()\n",
    "    color_map=[]\n",
    "    N = 50\n",
    "    colors = np.random.rand(N)    \n",
    "    strs=['R0', 'R1', 'R2', 'R3', 'R4', 'R5', 'R6', 'R7', 'R8', 'R9', 'R10', 'R11']\n",
    "\n",
    "    for i in range(rules_to_show):\n",
    "        G1.add_nodes_from([\"R\"+str(i)])\n",
    "        for a in rules.iloc[i]['antecedents']:\n",
    "            G1.add_nodes_from([a])\n",
    "            G1.add_edge(a, \"R\"+str(i), color=colors[i] , weight = 2)\n",
    "        for c in rules.iloc[i]['consequents']:\n",
    "            G1.add_nodes_from([c])\n",
    "            G1.add_edge(\"R\"+str(i), c, color=colors[i],  weight=2)\n",
    "\n",
    "    for node in G1:\n",
    "        found_a_string = False\n",
    "        for item in strs: \n",
    "            if node==item:\n",
    "                found_a_string = True\n",
    "        if found_a_string:\n",
    "            color_map.append('yellow')\n",
    "        else:\n",
    "            color_map.append('green')       \n",
    "\n",
    "    edges = G1.edges()\n",
    "    colors = [G1[u][v]['color'] for u,v in edges]\n",
    "    weights = [G1[u][v]['weight'] for u,v in edges]\n",
    "\n",
    "    pos = nx.spring_layout(G1, k=16, scale=1)\n",
    "    nx.draw(G1, pos, node_color = color_map, edge_color=colors, width=weights, font_size=16, \n",
    "            with_labels=False)            \n",
    "\n",
    "    for p in pos:  # raise text positions\n",
    "        pos[p][1] += 0.07\n",
    "        nx.draw_networkx_labels(G1, pos)\n",
    "        plt.show()\n",
    "\n",
    "        \n",
    "        \n",
    "draw_graph (rule, 5)"
   ]
  }
 ],
 "metadata": {
  "hide_input": false,
  "kernelspec": {
   "display_name": "Python [conda env:aging]",
   "language": "python",
   "name": "conda-env-aging-py"
  },
  "language_info": {
   "codemirror_mode": {
    "name": "ipython",
    "version": 3
   },
   "file_extension": ".py",
   "mimetype": "text/x-python",
   "name": "python",
   "nbconvert_exporter": "python",
   "pygments_lexer": "ipython3",
   "version": "3.7.10"
  },
  "toc": {
   "base_numbering": 1,
   "nav_menu": {},
   "number_sections": true,
   "sideBar": true,
   "skip_h1_title": false,
   "title_cell": "Table of Contents",
   "title_sidebar": "Contents",
   "toc_cell": false,
   "toc_position": {},
   "toc_section_display": true,
   "toc_window_display": false
  },
  "varInspector": {
   "cols": {
    "lenName": 16,
    "lenType": 16,
    "lenVar": 40
   },
   "kernels_config": {
    "python": {
     "delete_cmd_postfix": "",
     "delete_cmd_prefix": "del ",
     "library": "var_list.py",
     "varRefreshCmd": "print(var_dic_list())"
    },
    "r": {
     "delete_cmd_postfix": ") ",
     "delete_cmd_prefix": "rm(",
     "library": "var_list.r",
     "varRefreshCmd": "cat(var_dic_list()) "
    }
   },
   "types_to_exclude": [
    "module",
    "function",
    "builtin_function_or_method",
    "instance",
    "_Feature"
   ],
   "window_display": false
  }
 },
 "nbformat": 4,
 "nbformat_minor": 4
}
